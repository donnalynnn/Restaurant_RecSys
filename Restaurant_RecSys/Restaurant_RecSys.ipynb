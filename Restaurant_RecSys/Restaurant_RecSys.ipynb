{
 "cells": [
  {
   "cell_type": "raw",
   "id": "c6f4d1e3-a204-4b46-abdc-960791f959eb",
   "metadata": {},
   "source": [
    "Restaurant Recommendation System with XLNet: A Deep Dive into User Text Input Analysis"
   ]
  },
  {
   "cell_type": "code",
   "execution_count": null,
   "id": "7576daa3-0c27-4c9d-a3eb-a09939cb6119",
   "metadata": {
    "scrolled": true
   },
   "outputs": [],
   "source": [
    "pip install tensorflow pandas tensorflow scikit-learn geopy transformers sentencepiece"
   ]
  },
  {
   "cell_type": "code",
   "execution_count": null,
   "id": "3850920b-39c5-4184-85e7-24df0fdee4d5",
   "metadata": {},
   "outputs": [],
   "source": [
    "# Step 1: Import necessary libraries\n",
    "import pandas as pd\n",
    "from geopy.geocoders import Nominatim\n",
    "from transformers import XLNetTokenizer, XLNetForSequenceClassification\n",
    "from sklearn.metrics.pairwise import cosine_similarity\n",
    "\n",
    "# Load your dataset\n",
    "df = pd.read_csv('zomato.csv',encoding='latin1')\n",
    "\n",
    "# Preprocess the dataset\n",
    "# Handle missing values\n",
    "df.dropna(inplace=True) \n"
   ]
  },
  {
   "cell_type": "code",
   "execution_count": null,
   "id": "acba9f09-de7d-4c3c-babb-5b2a9e0b45f3",
   "metadata": {},
   "outputs": [],
   "source": [
    "def preprocess_user_input(user_input):\n",
    "    # Preprocess user input to extract relevant information\n",
    "    # Example implementation:\n",
    "    location = extract_location(user_input)\n",
    "    delivery_preference = extract_delivery_preference(user_input)\n",
    "    cravings = extract_cravings(user_input)\n",
    "    return location, delivery_preference, cravings\n",
    "\n",
    "def extract_location(user_input):\n",
    "    # Extract location from user input\n",
    "    # Example implementation:\n",
    "    # Assuming location is provided directly in the input\n",
    "    return user_input.get('Location', '')\n",
    "\n",
    "def extract_delivery_preference(user_input):\n",
    "    # Extract delivery preference from user input\n",
    "    # Example implementation:\n",
    "    return user_input.get('Deliver', 'No')\n",
    "\n",
    "def extract_cravings(user_input):\n",
    "    # Extract cravings from user input\n",
    "    # Example implementation:\n",
    "    return user_input.get('Any cravings', '')\n"
   ]
  },
  {
   "cell_type": "code",
   "execution_count": null,
   "id": "9c1ed196-e51f-46cb-a079-2065f8bd09ba",
   "metadata": {},
   "outputs": [],
   "source": [
    "# Load XLNet model and tokenizer\n",
    "tokenizer = XLNetTokenizer.from_pretrained('xlnet-base-cased')\n",
    "model = XLNetForSequenceClassification.from_pretrained('xlnet-base-cased')"
   ]
  },
  {
   "cell_type": "code",
   "execution_count": null,
   "id": "f87e6aa8-2016-4928-9a73-a57823e0bd19",
   "metadata": {},
   "outputs": [],
   "source": [
    "import numpy as np\n",
    "\n",
    "# Assume you have loaded the XLNet model and tokenizer earlier\n",
    "\n",
    "# Function to tokenize text using XLNet tokenizer\n",
    "def tokenize_text(text):\n",
    "    return tokenizer.encode_plus(text, add_special_tokens=True, return_tensors='pt', max_length=512, truncation=True)\n",
    "\n",
    "# Function to calculate cosine similarity between two vectors\n",
    "def cosine_similarity_vector(u, v):\n",
    "    return np.dot(u, v) / (np.linalg.norm(u) * np.linalg.norm(v))\n",
    "\n",
    "# Function to generate recommendations based on user input and restaurant dataset\n",
    "def generate_recommendations(user_input, df):\n",
    "    location, _, cravings = preprocess_user_input(user_input)\n",
    "    \n",
    "    # Filter restaurants based on location\n",
    "    filtered_df = df[df['City'] == location]\n",
    "    \n",
    "    # Tokenize user cravings\n",
    "    tokenized_user_cravings = tokenize_text(cravings)['input_ids']\n",
    "    \n",
    "    # Calculate XLNet embeddings for restaurant cuisines\n",
    "    cuisine_embeddings = []\n",
    "    for cuisine in filtered_df['Cuisines']:\n",
    "        tokenized_cuisine = tokenize_text(cuisine)['input_ids']\n",
    "        with torch.no_grad():\n",
    "            outputs = model(input_ids=tokenized_cuisine)\n",
    "            cuisine_embedding = outputs.last_hidden_state.mean(dim=1).numpy()\n",
    "            cuisine_embeddings.append(cuisine_embedding)\n",
    "    \n",
    "    # Calculate XLNet embedding for user cravings\n",
    "    with torch.no_grad():\n",
    "        outputs = model(input_ids=tokenized_user_cravings)\n",
    "        user_cravings_embedding = outputs.last_hidden_state.mean(dim=1).numpy()\n",
    "    \n",
    "    # Calculate cosine similarity between user cravings and restaurant cuisines\n",
    "    similarities = [cosine_similarity_vector(user_cravings_embedding, ce) for ce in cuisine_embeddings]\n",
    "    \n",
    "    # Sort restaurants based on cosine similarity\n",
    "    filtered_df['Similarity'] = similarities\n",
    "    filtered_df = filtered_df.sort_values(by='Similarity', ascending=False)\n",
    "    \n",
    "    # Return top 1-5 recommended restaurants\n",
    "    return filtered_df.head(5)['Restaurant Name']\n",
    "\n",
    "# Example usage:\n",
    "user_input = {\n",
    "    'Location': 'Makati City',\n",
    "    'Deliver': 'No',\n",
    "    'Any cravings': 'buffet cuisines'\n",
    "}\n",
    "recommendations = generate_recommendations(user_input, df)\n",
    "print(recommendations)"
   ]
  }
 ],
 "metadata": {
  "kernelspec": {
   "display_name": "Python 3 (ipykernel)",
   "language": "python",
   "name": "python3"
  },
  "language_info": {
   "codemirror_mode": {
    "name": "ipython",
    "version": 3
   },
   "file_extension": ".py",
   "mimetype": "text/x-python",
   "name": "python",
   "nbconvert_exporter": "python",
   "pygments_lexer": "ipython3",
   "version": "3.10.7"
  }
 },
 "nbformat": 4,
 "nbformat_minor": 5
}
